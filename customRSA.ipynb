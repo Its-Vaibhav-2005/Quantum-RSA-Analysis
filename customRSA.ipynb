{
 "cells": [
  {
   "cell_type": "code",
   "id": "initial_id",
   "metadata": {
    "collapsed": true,
    "ExecuteTime": {
     "end_time": "2025-06-06T13:27:32.074918Z",
     "start_time": "2025-06-06T13:27:31.800466Z"
    }
   },
   "source": [
    "import random\n",
    "from sympy import isprime, nextprime\n",
    "from math import gcd"
   ],
   "outputs": [],
   "execution_count": 1
  },
  {
   "metadata": {},
   "cell_type": "markdown",
   "source": "Generate a random prime number of given approx `bits` length",
   "id": "deaca33c59c999c"
  },
  {
   "metadata": {
    "ExecuteTime": {
     "end_time": "2025-06-06T13:27:32.203410Z",
     "start_time": "2025-06-06T13:27:32.198118Z"
    }
   },
   "cell_type": "code",
   "source": [
    "def genPrime(bits):\n",
    "    while True:\n",
    "        num = random.getrandbits(bits)\n",
    "        num |= (1 << bits - 1) | 1  # Ensure high bit is set and it's odd\n",
    "        if isprime(num):\n",
    "            return num"
   ],
   "id": "dd5d93fed40e4542",
   "outputs": [],
   "execution_count": 2
  },
  {
   "metadata": {},
   "cell_type": "markdown",
   "source": "Compute modular inverse using Extended Euclidean Algorithm",
   "id": "d1e1757d278d3dba"
  },
  {
   "metadata": {
    "ExecuteTime": {
     "end_time": "2025-06-06T13:27:32.342397Z",
     "start_time": "2025-06-06T13:27:32.336907Z"
    }
   },
   "cell_type": "code",
   "source": [
    "def modinv(a, m):\n",
    "    m0, x0, x1 = m, 0, 1\n",
    "    while a > 1:\n",
    "        q = a // m\n",
    "        a, m = m, a % m\n",
    "        x0, x1 = x1 - q * x0, x0\n",
    "    return x1 + m0 if x1 < 0 else x1"
   ],
   "id": "34e521d51aae5334",
   "outputs": [],
   "execution_count": 3
  },
  {
   "metadata": {},
   "cell_type": "markdown",
   "source": "## Generate RSA key pair",
   "id": "123872e08fad52f5"
  },
  {
   "metadata": {
    "ExecuteTime": {
     "end_time": "2025-06-06T13:27:32.418360Z",
     "start_time": "2025-06-06T13:27:32.412319Z"
    }
   },
   "cell_type": "code",
   "source": [
    "def genKeyPairs(keysize):\n",
    "    half = keysize // 2\n",
    "    p = genPrime(half)\n",
    "    q = genPrime(half)\n",
    "    while p == q:\n",
    "        q = genPrime(half)\n",
    "\n",
    "    n = p * q\n",
    "    phi = (p - 1) * (q - 1)\n",
    "    e = 65537  # Standard public exponent\n",
    "\n",
    "    if gcd(e, phi) != 1:\n",
    "        # Retry till valid pair\n",
    "        return genKeyPairs(keysize)\n",
    "\n",
    "    d = modinv(e, phi)\n",
    "\n",
    "    return (e, n), (d, n)"
   ],
   "id": "99f5e73c2ab5c82e",
   "outputs": [],
   "execution_count": 4
  },
  {
   "metadata": {},
   "cell_type": "markdown",
   "source": "# Encryption",
   "id": "e2405816d1b9da56"
  },
  {
   "metadata": {
    "ExecuteTime": {
     "end_time": "2025-06-06T13:27:32.476809Z",
     "start_time": "2025-06-06T13:27:32.473102Z"
    }
   },
   "cell_type": "code",
   "source": [
    "def encrypt(public_key, plaintext):\n",
    "    e, n = public_key\n",
    "    # Convert string to int then encrypt\n",
    "    plaintextInt = int.from_bytes(plaintext.encode(), byteorder='big')\n",
    "    cipherTextInt = pow(plaintextInt, e, n)\n",
    "    return cipherTextInt"
   ],
   "id": "a2294905a5293efa",
   "outputs": [],
   "execution_count": 5
  },
  {
   "metadata": {},
   "cell_type": "markdown",
   "source": "# Decryption",
   "id": "6dea58230be6be76"
  },
  {
   "metadata": {
    "ExecuteTime": {
     "end_time": "2025-06-06T13:27:32.533901Z",
     "start_time": "2025-06-06T13:27:32.529843Z"
    }
   },
   "cell_type": "code",
   "source": [
    "def decrypt(private_key, ciphertext_int):\n",
    "    d, n = private_key\n",
    "    decryptedInt = pow(ciphertext_int, d, n)\n",
    "    decryptedBytes = decryptedInt.to_bytes((decryptedInt.bit_length() + 7) // 8, byteorder='big')\n",
    "    return decryptedBytes\n"
   ],
   "id": "da8c3bb7288b37c8",
   "outputs": [],
   "execution_count": 6
  },
  {
   "metadata": {},
   "cell_type": "markdown",
   "source": "# Test Phase",
   "id": "43ac30a2bcfbfead"
  },
  {
   "metadata": {
    "ExecuteTime": {
     "end_time": "2025-06-06T13:27:32.587408Z",
     "start_time": "2025-06-06T13:27:32.583711Z"
    }
   },
   "cell_type": "code",
   "source": "keySize = 6",
   "id": "eede16dc23173084",
   "outputs": [],
   "execution_count": 7
  },
  {
   "metadata": {
    "ExecuteTime": {
     "end_time": "2025-06-06T13:27:32.643286Z",
     "start_time": "2025-06-06T13:27:32.639075Z"
    }
   },
   "cell_type": "code",
   "source": "publicKey, privateKey = genKeyPairs(keySize)",
   "id": "9762727d9cc7cad0",
   "outputs": [],
   "execution_count": 8
  },
  {
   "metadata": {},
   "cell_type": "markdown",
   "source": "## Public Key",
   "id": "8e35db57d4020939"
  },
  {
   "metadata": {
    "ExecuteTime": {
     "end_time": "2025-06-06T13:27:32.702056Z",
     "start_time": "2025-06-06T13:27:32.694755Z"
    }
   },
   "cell_type": "code",
   "source": "publicKey",
   "id": "56232554af9c6859",
   "outputs": [
    {
     "data": {
      "text/plain": [
       "(65537, 35)"
      ]
     },
     "execution_count": 9,
     "metadata": {},
     "output_type": "execute_result"
    }
   ],
   "execution_count": 9
  },
  {
   "metadata": {},
   "cell_type": "markdown",
   "source": "## Private Key",
   "id": "bae79578389c2d7a"
  },
  {
   "metadata": {
    "ExecuteTime": {
     "end_time": "2025-06-06T13:27:32.795792Z",
     "start_time": "2025-06-06T13:27:32.787949Z"
    }
   },
   "cell_type": "code",
   "source": "privateKey",
   "id": "24b1dd449b56d504",
   "outputs": [
    {
     "data": {
      "text/plain": [
       "(17, 35)"
      ]
     },
     "execution_count": 10,
     "metadata": {},
     "output_type": "execute_result"
    }
   ],
   "execution_count": 10
  },
  {
   "metadata": {
    "ExecuteTime": {
     "end_time": "2025-06-06T13:27:33.150578Z",
     "start_time": "2025-06-06T13:27:33.147062Z"
    }
   },
   "cell_type": "code",
   "source": "",
   "id": "57257ae8586fcbf3",
   "outputs": [],
   "execution_count": null
  }
 ],
 "metadata": {
  "kernelspec": {
   "display_name": "Python 3",
   "language": "python",
   "name": "python3"
  },
  "language_info": {
   "codemirror_mode": {
    "name": "ipython",
    "version": 2
   },
   "file_extension": ".py",
   "mimetype": "text/x-python",
   "name": "python",
   "nbconvert_exporter": "python",
   "pygments_lexer": "ipython2",
   "version": "2.7.6"
  }
 },
 "nbformat": 4,
 "nbformat_minor": 5
}

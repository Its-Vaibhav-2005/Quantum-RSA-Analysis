{
 "cells": [
  {
   "metadata": {
    "ExecuteTime": {
     "end_time": "2025-06-06T12:35:05.272398Z",
     "start_time": "2025-06-06T12:26:33.311620Z"
    }
   },
   "cell_type": "code",
   "source": [
    "from qiskit import Aer\n",
    "from qiskit.utils import QuantumInstance\n",
    "from qiskit.algorithms import Shor\n",
    "\n",
    "N = 35\n",
    "\n",
    "quantum_instance = QuantumInstance(Aer.get_backend('aer_simulator'))\n",
    "\n",
    "shor = Shor(quantum_instance=quantum_instance)\n",
    "\n",
    "result = shor.factor(N)\n",
    "\n",
    "print(f\"Factors of {N} are: {result.factors}\")\n"
   ],
   "id": "9f75037e07062999",
   "outputs": [
    {
     "name": "stdout",
     "output_type": "stream",
     "text": [
      "Factors of 35 are: [[5, 7]]\n"
     ]
    }
   ],
   "execution_count": 15
  },
  {
   "metadata": {
    "ExecuteTime": {
     "end_time": "2025-06-06T12:37:34.271979Z",
     "start_time": "2025-06-06T12:37:34.269665Z"
    }
   },
   "cell_type": "code",
   "source": "p,q = result.factors[0]",
   "id": "f4bc0a9cf1218b62",
   "outputs": [],
   "execution_count": 18
  },
  {
   "metadata": {
    "ExecuteTime": {
     "end_time": "2025-06-06T12:37:36.461979Z",
     "start_time": "2025-06-06T12:37:36.458629Z"
    }
   },
   "cell_type": "code",
   "source": "p",
   "id": "b74a5f0959f461a7",
   "outputs": [
    {
     "data": {
      "text/plain": [
       "5"
      ]
     },
     "execution_count": 19,
     "metadata": {},
     "output_type": "execute_result"
    }
   ],
   "execution_count": 19
  },
  {
   "metadata": {
    "ExecuteTime": {
     "end_time": "2025-06-06T12:37:39.195505Z",
     "start_time": "2025-06-06T12:37:39.190410Z"
    }
   },
   "cell_type": "code",
   "source": "q",
   "id": "2057c326ab3410c4",
   "outputs": [
    {
     "data": {
      "text/plain": [
       "7"
      ]
     },
     "execution_count": 20,
     "metadata": {},
     "output_type": "execute_result"
    }
   ],
   "execution_count": 20
  },
  {
   "metadata": {
    "ExecuteTime": {
     "end_time": "2025-06-06T12:38:59.526245Z",
     "start_time": "2025-06-06T12:38:59.522131Z"
    }
   },
   "cell_type": "code",
   "source": [
    "def extendedGCD(a, b):\n",
    "    \"\"\"Extended Euclidean Algorithm.\n",
    "    Returns (gcd, x, y) such that ax + by = gcd\"\"\"\n",
    "    if b == 0:\n",
    "        return (a, 1, 0)\n",
    "    else:\n",
    "        gcd, x1, y1 = extendedGCD(b, a % b)\n",
    "        x = y1\n",
    "        y = x1 - (a // b) * y1\n",
    "        return (gcd, x, y)"
   ],
   "id": "6628812ea08bbd46",
   "outputs": [],
   "execution_count": 21
  },
  {
   "metadata": {
    "ExecuteTime": {
     "end_time": "2025-06-06T12:39:07.912163Z",
     "start_time": "2025-06-06T12:39:07.908325Z"
    }
   },
   "cell_type": "code",
   "source": [
    "def modInverse(e, phi):\n",
    "    \"\"\"Find modular inverse of e modulo phi using Extended Euclidean Algorithm\"\"\"\n",
    "    gcd, x, _ = extendedGCD(e, phi)\n",
    "    if gcd != 1:\n",
    "        # Modular inverse does not exist if e and phi are not coprime\n",
    "        return None\n",
    "    else:\n",
    "        return x % phi"
   ],
   "id": "d39b4475349d1ecf",
   "outputs": [],
   "execution_count": 23
  },
  {
   "metadata": {},
   "cell_type": "markdown",
   "source": [
    "\n",
    "$d$ is the modular multiplicative inverse of $e$ modulo $\\phi(n)$, so:\n",
    "\n",
    "$$\n",
    "d \\times e \\equiv 1 \\pmod{\\phi(n)}\n",
    "$$\n",
    "\n",
    "You can finding $d$ using the Extended Euclidean Algorithm.\n"
   ],
   "id": "6675803d2d68027b"
  },
  {
   "metadata": {
    "ExecuteTime": {
     "end_time": "2025-06-06T12:39:34.306242Z",
     "start_time": "2025-06-06T12:39:34.303224Z"
    }
   },
   "cell_type": "code",
   "source": [
    "def generatePrivateKey(p, q, e):\n",
    "    n = p * q\n",
    "    phi = (p - 1) * (q - 1)\n",
    "    if extendedGCD(e, phi)[0] != 1:\n",
    "        return None, None  # e and phi(n) not coprime, invalid e\n",
    "    d = modInverse(e, phi)\n",
    "    return d, n"
   ],
   "id": "dfb2df69f95cfac1",
   "outputs": [],
   "execution_count": 24
  },
  {
   "metadata": {
    "ExecuteTime": {
     "end_time": "2025-06-06T12:39:48.946291Z",
     "start_time": "2025-06-06T12:39:48.941611Z"
    }
   },
   "cell_type": "code",
   "source": "e = 65537",
   "id": "e3f82c925cc33c0d",
   "outputs": [],
   "execution_count": 25
  },
  {
   "metadata": {},
   "cell_type": "markdown",
   "source": "# Private Key\n",
   "id": "77dc3c0f0f1dd41e"
  },
  {
   "metadata": {
    "ExecuteTime": {
     "end_time": "2025-06-06T12:40:00.083701Z",
     "start_time": "2025-06-06T12:40:00.080150Z"
    }
   },
   "cell_type": "code",
   "source": "generatePrivateKey(p, q, e)",
   "id": "2968c2c3b61ed703",
   "outputs": [
    {
     "data": {
      "text/plain": [
       "(17, 35)"
      ]
     },
     "execution_count": 26,
     "metadata": {},
     "output_type": "execute_result"
    }
   ],
   "execution_count": 26
  }
 ],
 "metadata": {
  "kernelspec": {
   "display_name": "Python 3",
   "language": "python",
   "name": "python3"
  },
  "language_info": {
   "codemirror_mode": {
    "name": "ipython",
    "version": 2
   },
   "file_extension": ".py",
   "mimetype": "text/x-python",
   "name": "python",
   "nbconvert_exporter": "python",
   "pygments_lexer": "ipython2",
   "version": "2.7.6"
  }
 },
 "nbformat": 4,
 "nbformat_minor": 5
}
